{
 "cells": [
  {
   "cell_type": "markdown",
   "id": "87bc1602",
   "metadata": {},
   "source": [
    "At the very bottom there is a paragraph explanation detailing the observations found during this analysis. The code below has explanations after each result with a quick explanation of what was found"
   ]
  },
  {
   "cell_type": "code",
   "execution_count": 1,
   "id": "2a10fb09",
   "metadata": {},
   "outputs": [],
   "source": [
    "import pandas as pd"
   ]
  },
  {
   "cell_type": "code",
   "execution_count": 2,
   "id": "715216fe",
   "metadata": {},
   "outputs": [],
   "source": [
    "df = pd.read_excel(\"Netflix Dataset Latest 2021.xlsx\")"
   ]
  },
  {
   "cell_type": "code",
   "execution_count": 3,
   "id": "d0905afe",
   "metadata": {},
   "outputs": [
    {
     "data": {
      "text/html": [
       "<div>\n",
       "<style scoped>\n",
       "    .dataframe tbody tr th:only-of-type {\n",
       "        vertical-align: middle;\n",
       "    }\n",
       "\n",
       "    .dataframe tbody tr th {\n",
       "        vertical-align: top;\n",
       "    }\n",
       "\n",
       "    .dataframe thead th {\n",
       "        text-align: right;\n",
       "    }\n",
       "</style>\n",
       "<table border=\"1\" class=\"dataframe\">\n",
       "  <thead>\n",
       "    <tr style=\"text-align: right;\">\n",
       "      <th></th>\n",
       "      <th>Title</th>\n",
       "      <th>Genre</th>\n",
       "      <th>Tags</th>\n",
       "      <th>Languages</th>\n",
       "      <th>Series or Movie</th>\n",
       "      <th>Hidden Gem Score</th>\n",
       "      <th>Country Availability</th>\n",
       "      <th>Runtime</th>\n",
       "      <th>Director</th>\n",
       "      <th>Writer</th>\n",
       "      <th>...</th>\n",
       "      <th>Netflix Release Date</th>\n",
       "      <th>Production House</th>\n",
       "      <th>Netflix Link</th>\n",
       "      <th>IMDb Link</th>\n",
       "      <th>Summary</th>\n",
       "      <th>IMDb Votes</th>\n",
       "      <th>Image</th>\n",
       "      <th>Poster</th>\n",
       "      <th>TMDb Trailer</th>\n",
       "      <th>Trailer Site</th>\n",
       "    </tr>\n",
       "  </thead>\n",
       "  <tbody>\n",
       "    <tr>\n",
       "      <th>0</th>\n",
       "      <td>Lets Fight Ghost</td>\n",
       "      <td>Crime, Drama, Fantasy, Horror, Romance</td>\n",
       "      <td>Comedy Programmes,Romantic TV Comedies,Horror ...</td>\n",
       "      <td>Swedish, Spanish</td>\n",
       "      <td>Series</td>\n",
       "      <td>4.3</td>\n",
       "      <td>Thailand</td>\n",
       "      <td>&lt; 30 minutes</td>\n",
       "      <td>Tomas Alfredson</td>\n",
       "      <td>John Ajvide Lindqvist</td>\n",
       "      <td>...</td>\n",
       "      <td>2021-03-04</td>\n",
       "      <td>Canal+, Sandrew Metronome</td>\n",
       "      <td>https://www.netflix.com/watch/81415947</td>\n",
       "      <td>https://www.imdb.com/title/tt1139797</td>\n",
       "      <td>A med student with a supernatural gift tries t...</td>\n",
       "      <td>205926.0</td>\n",
       "      <td>https://occ-0-4708-64.1.nflxso.net/dnm/api/v6/...</td>\n",
       "      <td>https://m.media-amazon.com/images/M/MV5BOWM4NT...</td>\n",
       "      <td>https://www.youtube.com/watch?v=LqB6XJix-dM</td>\n",
       "      <td>YouTube</td>\n",
       "    </tr>\n",
       "    <tr>\n",
       "      <th>1</th>\n",
       "      <td>HOW TO BUILD A GIRL</td>\n",
       "      <td>Comedy</td>\n",
       "      <td>Dramas,Comedies,Films Based on Books,British</td>\n",
       "      <td>English</td>\n",
       "      <td>Movie</td>\n",
       "      <td>7.0</td>\n",
       "      <td>Canada</td>\n",
       "      <td>1-2 hour</td>\n",
       "      <td>Coky Giedroyc</td>\n",
       "      <td>Caitlin Moran</td>\n",
       "      <td>...</td>\n",
       "      <td>2021-03-04</td>\n",
       "      <td>Film 4, Monumental Pictures, Lionsgate</td>\n",
       "      <td>https://www.netflix.com/watch/81041267</td>\n",
       "      <td>https://www.imdb.com/title/tt4193072</td>\n",
       "      <td>When nerdy Johanna moves to London, things get...</td>\n",
       "      <td>2838.0</td>\n",
       "      <td>https://occ-0-1081-999.1.nflxso.net/dnm/api/v6...</td>\n",
       "      <td>https://m.media-amazon.com/images/M/MV5BZGUyN2...</td>\n",
       "      <td>https://www.youtube.com/watch?v=eIbcxPy4okQ</td>\n",
       "      <td>YouTube</td>\n",
       "    </tr>\n",
       "    <tr>\n",
       "      <th>2</th>\n",
       "      <td>The Con-Heartist</td>\n",
       "      <td>Comedy, Romance</td>\n",
       "      <td>Romantic Comedies,Comedies,Romantic Films,Thai...</td>\n",
       "      <td>Thai</td>\n",
       "      <td>Movie</td>\n",
       "      <td>8.6</td>\n",
       "      <td>Thailand</td>\n",
       "      <td>&gt; 2 hrs</td>\n",
       "      <td>Mez Tharatorn</td>\n",
       "      <td>Pattaranad Bhiboonsawade, Mez Tharatorn, Thods...</td>\n",
       "      <td>...</td>\n",
       "      <td>2021-03-03</td>\n",
       "      <td>NaN</td>\n",
       "      <td>https://www.netflix.com/watch/81306155</td>\n",
       "      <td>https://www.imdb.com/title/tt13393728</td>\n",
       "      <td>After her ex-boyfriend cons her out of a large...</td>\n",
       "      <td>131.0</td>\n",
       "      <td>https://occ-0-2188-64.1.nflxso.net/dnm/api/v6/...</td>\n",
       "      <td>https://m.media-amazon.com/images/M/MV5BODAzOG...</td>\n",
       "      <td>https://www.youtube.com/watch?v=md3CmFLGK6Y</td>\n",
       "      <td>YouTube</td>\n",
       "    </tr>\n",
       "    <tr>\n",
       "      <th>3</th>\n",
       "      <td>Gleboka woda</td>\n",
       "      <td>Drama</td>\n",
       "      <td>TV Dramas,Polish TV Shows,Social Issue TV Dramas</td>\n",
       "      <td>Polish</td>\n",
       "      <td>Series</td>\n",
       "      <td>8.7</td>\n",
       "      <td>Poland</td>\n",
       "      <td>&lt; 30 minutes</td>\n",
       "      <td>NaN</td>\n",
       "      <td>NaN</td>\n",
       "      <td>...</td>\n",
       "      <td>2021-03-03</td>\n",
       "      <td>NaN</td>\n",
       "      <td>https://www.netflix.com/watch/81307527</td>\n",
       "      <td>https://www.imdb.com/title/tt2300049</td>\n",
       "      <td>A group of social welfare workers led by their...</td>\n",
       "      <td>47.0</td>\n",
       "      <td>https://occ-0-2508-2706.1.nflxso.net/dnm/api/v...</td>\n",
       "      <td>https://m.media-amazon.com/images/M/MV5BMTc0Nz...</td>\n",
       "      <td>https://www.youtube.com/watch?v=5kyF2vy63r0</td>\n",
       "      <td>YouTube</td>\n",
       "    </tr>\n",
       "    <tr>\n",
       "      <th>4</th>\n",
       "      <td>Only a Mother</td>\n",
       "      <td>Drama</td>\n",
       "      <td>Social Issue Dramas,Dramas,Movies Based on Boo...</td>\n",
       "      <td>Swedish</td>\n",
       "      <td>Movie</td>\n",
       "      <td>8.3</td>\n",
       "      <td>Lithuania,Poland,France,Italy,Spain,Greece,Bel...</td>\n",
       "      <td>1-2 hour</td>\n",
       "      <td>Alf Sjöberg</td>\n",
       "      <td>Ivar Lo-Johansson</td>\n",
       "      <td>...</td>\n",
       "      <td>2021-03-03</td>\n",
       "      <td>NaN</td>\n",
       "      <td>https://www.netflix.com/watch/81382068</td>\n",
       "      <td>https://www.imdb.com/title/tt0041155</td>\n",
       "      <td>An unhappily married farm worker struggling to...</td>\n",
       "      <td>88.0</td>\n",
       "      <td>https://occ-0-2851-41.1.nflxso.net/dnm/api/v6/...</td>\n",
       "      <td>https://m.media-amazon.com/images/M/MV5BMjVmMz...</td>\n",
       "      <td>https://www.youtube.com/watch?v=H0itWKFwMpQ</td>\n",
       "      <td>YouTube</td>\n",
       "    </tr>\n",
       "  </tbody>\n",
       "</table>\n",
       "<p>5 rows × 29 columns</p>\n",
       "</div>"
      ],
      "text/plain": [
       "                 Title                                   Genre  \\\n",
       "0     Lets Fight Ghost  Crime, Drama, Fantasy, Horror, Romance   \n",
       "1  HOW TO BUILD A GIRL                                  Comedy   \n",
       "2     The Con-Heartist                         Comedy, Romance   \n",
       "3         Gleboka woda                                   Drama   \n",
       "4        Only a Mother                                   Drama   \n",
       "\n",
       "                                                Tags         Languages  \\\n",
       "0  Comedy Programmes,Romantic TV Comedies,Horror ...  Swedish, Spanish   \n",
       "1       Dramas,Comedies,Films Based on Books,British           English   \n",
       "2  Romantic Comedies,Comedies,Romantic Films,Thai...              Thai   \n",
       "3   TV Dramas,Polish TV Shows,Social Issue TV Dramas            Polish   \n",
       "4  Social Issue Dramas,Dramas,Movies Based on Boo...           Swedish   \n",
       "\n",
       "  Series or Movie  Hidden Gem Score  \\\n",
       "0          Series               4.3   \n",
       "1           Movie               7.0   \n",
       "2           Movie               8.6   \n",
       "3          Series               8.7   \n",
       "4           Movie               8.3   \n",
       "\n",
       "                                Country Availability       Runtime  \\\n",
       "0                                           Thailand  < 30 minutes   \n",
       "1                                             Canada      1-2 hour   \n",
       "2                                           Thailand       > 2 hrs   \n",
       "3                                             Poland  < 30 minutes   \n",
       "4  Lithuania,Poland,France,Italy,Spain,Greece,Bel...      1-2 hour   \n",
       "\n",
       "          Director                                             Writer  ...  \\\n",
       "0  Tomas Alfredson                              John Ajvide Lindqvist  ...   \n",
       "1    Coky Giedroyc                                      Caitlin Moran  ...   \n",
       "2    Mez Tharatorn  Pattaranad Bhiboonsawade, Mez Tharatorn, Thods...  ...   \n",
       "3              NaN                                                NaN  ...   \n",
       "4      Alf Sjöberg                                  Ivar Lo-Johansson  ...   \n",
       "\n",
       "  Netflix Release Date                        Production House  \\\n",
       "0           2021-03-04               Canal+, Sandrew Metronome   \n",
       "1           2021-03-04  Film 4, Monumental Pictures, Lionsgate   \n",
       "2           2021-03-03                                     NaN   \n",
       "3           2021-03-03                                     NaN   \n",
       "4           2021-03-03                                     NaN   \n",
       "\n",
       "                             Netflix Link  \\\n",
       "0  https://www.netflix.com/watch/81415947   \n",
       "1  https://www.netflix.com/watch/81041267   \n",
       "2  https://www.netflix.com/watch/81306155   \n",
       "3  https://www.netflix.com/watch/81307527   \n",
       "4  https://www.netflix.com/watch/81382068   \n",
       "\n",
       "                               IMDb Link  \\\n",
       "0   https://www.imdb.com/title/tt1139797   \n",
       "1   https://www.imdb.com/title/tt4193072   \n",
       "2  https://www.imdb.com/title/tt13393728   \n",
       "3   https://www.imdb.com/title/tt2300049   \n",
       "4   https://www.imdb.com/title/tt0041155   \n",
       "\n",
       "                                             Summary  IMDb Votes  \\\n",
       "0  A med student with a supernatural gift tries t...    205926.0   \n",
       "1  When nerdy Johanna moves to London, things get...      2838.0   \n",
       "2  After her ex-boyfriend cons her out of a large...       131.0   \n",
       "3  A group of social welfare workers led by their...        47.0   \n",
       "4  An unhappily married farm worker struggling to...        88.0   \n",
       "\n",
       "                                               Image  \\\n",
       "0  https://occ-0-4708-64.1.nflxso.net/dnm/api/v6/...   \n",
       "1  https://occ-0-1081-999.1.nflxso.net/dnm/api/v6...   \n",
       "2  https://occ-0-2188-64.1.nflxso.net/dnm/api/v6/...   \n",
       "3  https://occ-0-2508-2706.1.nflxso.net/dnm/api/v...   \n",
       "4  https://occ-0-2851-41.1.nflxso.net/dnm/api/v6/...   \n",
       "\n",
       "                                              Poster  \\\n",
       "0  https://m.media-amazon.com/images/M/MV5BOWM4NT...   \n",
       "1  https://m.media-amazon.com/images/M/MV5BZGUyN2...   \n",
       "2  https://m.media-amazon.com/images/M/MV5BODAzOG...   \n",
       "3  https://m.media-amazon.com/images/M/MV5BMTc0Nz...   \n",
       "4  https://m.media-amazon.com/images/M/MV5BMjVmMz...   \n",
       "\n",
       "                                  TMDb Trailer Trailer Site  \n",
       "0  https://www.youtube.com/watch?v=LqB6XJix-dM      YouTube  \n",
       "1  https://www.youtube.com/watch?v=eIbcxPy4okQ      YouTube  \n",
       "2  https://www.youtube.com/watch?v=md3CmFLGK6Y      YouTube  \n",
       "3  https://www.youtube.com/watch?v=5kyF2vy63r0      YouTube  \n",
       "4  https://www.youtube.com/watch?v=H0itWKFwMpQ      YouTube  \n",
       "\n",
       "[5 rows x 29 columns]"
      ]
     },
     "execution_count": 3,
     "metadata": {},
     "output_type": "execute_result"
    }
   ],
   "source": [
    "df.head()"
   ]
  },
  {
   "cell_type": "markdown",
   "id": "fde9fa5b",
   "metadata": {},
   "source": [
    "First we're gonna analyze if there is a correlation between certain words in the title of the movie with the movie's IMDb Score."
   ]
  },
  {
   "cell_type": "code",
   "execution_count": 4,
   "id": "f071033c",
   "metadata": {},
   "outputs": [],
   "source": [
    "Y = df[\"IMDb Score\"]"
   ]
  },
  {
   "cell_type": "code",
   "execution_count": 5,
   "id": "5fe45e41",
   "metadata": {},
   "outputs": [],
   "source": [
    "X = df[\"Title\"]"
   ]
  },
  {
   "cell_type": "code",
   "execution_count": 6,
   "id": "c610f270",
   "metadata": {},
   "outputs": [],
   "source": [
    "list1 = [[\"z\", '1', '1']]"
   ]
  },
  {
   "cell_type": "code",
   "execution_count": 7,
   "id": "5dec6d5a",
   "metadata": {},
   "outputs": [
    {
     "name": "stdout",
     "output_type": "stream",
     "text": [
      "['z', '1', '1']\n"
     ]
    }
   ],
   "source": [
    "for z in range(len(list1)):\n",
    "    print(list1[z])"
   ]
  },
  {
   "cell_type": "code",
   "execution_count": 8,
   "id": "4258a477",
   "metadata": {},
   "outputs": [],
   "source": [
    "import string\n",
    "import math\n",
    "\n",
    "for x in range(X.size):\n",
    "    txt = str(X[x])\n",
    "    new_words = txt.split(\" \")\n",
    "    for y in new_words:\n",
    "        new_string = y.translate(str.maketrans('', '', string.punctuation)).lower()\n",
    "        \n",
    "        check1 = False\n",
    "        for z in range(len(list1)):\n",
    "            if list1[z][0] == new_string:\n",
    "                if not math.isnan(Y[x]):\n",
    "                    list1[z][1] = str(int(list1[z][1]) + int(Y[x]))\n",
    "                    list1[z][2] = str(int(list1[z][2]) + 1)\n",
    "                check1 = True\n",
    "            \n",
    "        if not check1:\n",
    "            if not math.isnan(Y[x]):\n",
    "                list1.append([new_string, str(int(Y[x])), str(1)])"
   ]
  },
  {
   "cell_type": "code",
   "execution_count": 9,
   "id": "10e73bbb",
   "metadata": {},
   "outputs": [
    {
     "name": "stdout",
     "output_type": "stream",
     "text": [
      "[['lets', '34', '5'], ['fight', '67', '10'], ['ghost', '168', '25'], ['how', '175', '27'], ['to', '1238', '193'], ['build', '25', '4'], ['a', '2538', '391'], ['girl', '402', '64'], ['the', '16753', '2584']]\n"
     ]
    }
   ],
   "source": [
    "print(list1[1:10])"
   ]
  },
  {
   "cell_type": "code",
   "execution_count": 10,
   "id": "5cf792e6",
   "metadata": {},
   "outputs": [],
   "source": [
    "newlist1 = [[\"z\", 1]]\n",
    "\n",
    "for x in range(len(list1)):\n",
    "    if (int(list1[x][2]) > 5):\n",
    "        temp1 = float((int(list1[x][1]))/(int(list1[x][2])))\n",
    "        res = \"{:.4f}\".format(temp1)\n",
    "        newlist1.append([list1[x][0], float(res)])"
   ]
  },
  {
   "cell_type": "code",
   "execution_count": 11,
   "id": "0e03cba8",
   "metadata": {},
   "outputs": [
    {
     "data": {
      "text/plain": [
       "[['version', 7.5333],\n",
       " ['monty', 7.4667],\n",
       " ['files', 7.3333],\n",
       " ['terrace', 7.3333],\n",
       " ['masters', 7.3],\n",
       " ['python', 7.3],\n",
       " ['grand', 7.2857],\n",
       " ['wall', 7.2857],\n",
       " ['line', 7.2857],\n",
       " ['place', 7.2857],\n",
       " ['kenshin', 7.2857],\n",
       " ['shell', 7.2857],\n",
       " ['inside', 7.2727],\n",
       " ['oh', 7.25],\n",
       " ['future', 7.2308],\n",
       " ['mystery', 7.2222],\n",
       " ['universe', 7.2222],\n",
       " ['diaries', 7.2222],\n",
       " ['show', 7.1818],\n",
       " ['bill', 7.1818],\n",
       " ['lion', 7.1667],\n",
       " ['bridge', 7.1667],\n",
       " ['martin', 7.1667],\n",
       " ['inuyasha', 7.1667]]"
      ]
     },
     "execution_count": 11,
     "metadata": {},
     "output_type": "execute_result"
    }
   ],
   "source": [
    "newList3 = sorted(newlist1, key=lambda x: x[1], reverse=True)\n",
    "newList3[1:25]"
   ]
  },
  {
   "cell_type": "markdown",
   "id": "5a0549d9",
   "metadata": {},
   "source": [
    "This analyzes the words in the title of the show with the imdb score, finding key words that have the best imdb scores. We can see that movie titles that have the words, \"version\", \"monty\", \"files\", \"terrace\", and \"masters\" have an average IMDb score of \"7.5333\", \"7.4667\", \"7.3333\", \"7.3333\", and \"7.3\" respectively"
   ]
  },
  {
   "cell_type": "markdown",
   "id": "6e725ec5",
   "metadata": {},
   "source": [
    "Now we're going to do the same but with the genre of the movies"
   ]
  },
  {
   "cell_type": "code",
   "execution_count": 12,
   "id": "f21e363d",
   "metadata": {},
   "outputs": [],
   "source": [
    "X = df[\"Genre\"]"
   ]
  },
  {
   "cell_type": "code",
   "execution_count": 13,
   "id": "8f2124d2",
   "metadata": {},
   "outputs": [],
   "source": [
    "list1 = [[\"z\", '1', '1']]"
   ]
  },
  {
   "cell_type": "code",
   "execution_count": 14,
   "id": "10e28fdf",
   "metadata": {},
   "outputs": [],
   "source": [
    "import string\n",
    "import math\n",
    "\n",
    "for x in range(X.size):\n",
    "    txt = str(X[x])\n",
    "    new_words = txt.split(\", \")\n",
    "    for y in new_words:\n",
    "        new_string = y.translate(str.maketrans('', '', string.punctuation)).lower()\n",
    "        \n",
    "        check1 = False\n",
    "        for z in range(len(list1)):\n",
    "            if list1[z][0] == new_string:\n",
    "                if not math.isnan(Y[x]):\n",
    "                    list1[z][1] = str(int(list1[z][1]) + int(Y[x]))\n",
    "                    list1[z][2] = str(int(list1[z][2]) + 1)\n",
    "                check1 = True\n",
    "            \n",
    "        if not check1:\n",
    "            if not math.isnan(Y[x]):\n",
    "                list1.append([new_string, str(int(Y[x])), str(1)])"
   ]
  },
  {
   "cell_type": "code",
   "execution_count": 15,
   "id": "00298342",
   "metadata": {},
   "outputs": [
    {
     "data": {
      "text/plain": [
       "[['crime', '9814', '1512'],\n",
       " ['drama', '31692', '4803'],\n",
       " ['fantasy', '7978', '1228'],\n",
       " ['horror', '4239', '716'],\n",
       " ['romance', '11764', '1811'],\n",
       " ['comedy', '21235', '3304'],\n",
       " ['mystery', '6030', '936'],\n",
       " ['thriller', '12838', '2069'],\n",
       " ['short', '1111', '161']]"
      ]
     },
     "execution_count": 15,
     "metadata": {},
     "output_type": "execute_result"
    }
   ],
   "source": [
    "list1[1:10]"
   ]
  },
  {
   "cell_type": "code",
   "execution_count": 16,
   "id": "bc52639c",
   "metadata": {},
   "outputs": [],
   "source": [
    "newlist1 = [[\"z\", 1]]\n",
    "\n",
    "for x in range(len(list1)):\n",
    "    if (int(list1[x][2]) > 5):\n",
    "        temp1 = float((int(list1[x][1]))/(int(list1[x][2])))\n",
    "        res = \"{:.4f}\".format(temp1)\n",
    "        newlist1.append([list1[x][0], float(res)])"
   ]
  },
  {
   "cell_type": "code",
   "execution_count": 17,
   "id": "5b468c43",
   "metadata": {},
   "outputs": [
    {
     "data": {
      "text/plain": [
       "[['news', 7.1429],\n",
       " ['documentary', 6.9751],\n",
       " ['gameshow', 6.9375],\n",
       " ['realitytv', 6.9369],\n",
       " ['short', 6.9006],\n",
       " ['animation', 6.8653],\n",
       " ['nan', 6.8636],\n",
       " ['history', 6.7656],\n",
       " ['war', 6.7199],\n",
       " ['biography', 6.6836],\n",
       " ['drama', 6.5984],\n",
       " ['sport', 6.5952],\n",
       " ['music', 6.5812],\n",
       " ['western', 6.5402],\n",
       " ['fantasy', 6.4967],\n",
       " ['romance', 6.4959],\n",
       " ['crime', 6.4907],\n",
       " ['musical', 6.4634],\n",
       " ['mystery', 6.4423],\n",
       " ['comedy', 6.4271],\n",
       " ['adventure', 6.3882],\n",
       " ['scifi', 6.3602],\n",
       " ['family', 6.3485],\n",
       " ['action', 6.324]]"
      ]
     },
     "execution_count": 17,
     "metadata": {},
     "output_type": "execute_result"
    }
   ],
   "source": [
    "newList3 = sorted(newlist1, key=lambda x: x[1], reverse=True)\n",
    "newList3[1:25]"
   ]
  },
  {
   "cell_type": "markdown",
   "id": "b0a58f22",
   "metadata": {},
   "source": [
    "Looking at this data, we can see that the top 10 Genre's are News, Documentary, Gameshow, RealityTV, Short, Animation, History, War, Biography, Drama. Some of these genres are stereotypical high rated genres, such as \"realitytv\", \"animation\", \"short\", and \"documentary\""
   ]
  },
  {
   "cell_type": "markdown",
   "id": "91f94f80",
   "metadata": {},
   "source": [
    "Finally, we're doing the same for the movie tags"
   ]
  },
  {
   "cell_type": "code",
   "execution_count": 18,
   "id": "ad013736",
   "metadata": {},
   "outputs": [],
   "source": [
    "X = df[\"Tags\"]\n",
    "list1 = [[\"z\", '1', '1']]"
   ]
  },
  {
   "cell_type": "code",
   "execution_count": 19,
   "id": "5c808c51",
   "metadata": {},
   "outputs": [],
   "source": [
    "import string\n",
    "import math\n",
    "\n",
    "for x in range(X.size):\n",
    "    txt = str(X[x])\n",
    "    new_words = txt.split(\",\")\n",
    "    for y in new_words:\n",
    "        new_string = y.translate(str.maketrans('', '', string.punctuation)).lower()\n",
    "        \n",
    "        check1 = False\n",
    "        for z in range(len(list1)):\n",
    "            if list1[z][0] == new_string:\n",
    "                if not math.isnan(Y[x]):\n",
    "                    list1[z][1] = str(int(list1[z][1]) + int(Y[x]))\n",
    "                    list1[z][2] = str(int(list1[z][2]) + 1)\n",
    "                check1 = True\n",
    "            \n",
    "        if not check1:\n",
    "            if not math.isnan(Y[x]):\n",
    "                list1.append([new_string, str(int(Y[x])), str(1)])"
   ]
  },
  {
   "cell_type": "code",
   "execution_count": 20,
   "id": "e756b4cd",
   "metadata": {},
   "outputs": [],
   "source": [
    "newlist1 = [[\"z\", 1]]\n",
    "\n",
    "for x in range(len(list1)):\n",
    "    if (int(list1[x][2]) > 5):\n",
    "        temp1 = float((int(list1[x][1]))/(int(list1[x][2])))\n",
    "        res = \"{:.4f}\".format(temp1)\n",
    "        newlist1.append([list1[x][0], float(res)])"
   ]
  },
  {
   "cell_type": "code",
   "execution_count": 21,
   "id": "fb22f0a1",
   "metadata": {},
   "outputs": [
    {
     "data": {
      "text/plain": [
       "[['silent films', 7.8333],\n",
       " ['theater arts', 7.625],\n",
       " ['tv variety  talk shows', 7.5714],\n",
       " ['shoujo anime', 7.5],\n",
       " ['oscarwinning films', 7.5],\n",
       " ['classic westerns', 7.5],\n",
       " ['classic thrillers', 7.5],\n",
       " ['police tv shows', 7.5],\n",
       " ['miniseries', 7.5],\n",
       " ['asian programmes', 7.5],\n",
       " ['hindilanguage tv shows', 7.4615],\n",
       " ['australian tv programmes', 7.4615],\n",
       " ['anime horror films', 7.4444],\n",
       " ['classic scifi  fantasy', 7.4375],\n",
       " ['kids’ programmes', 7.4286],\n",
       " ['british tv comedies', 7.4194],\n",
       " ['academy awardwinning films', 7.4043],\n",
       " ['british tv programmes', 7.3982],\n",
       " ['bafta awardwinning films', 7.3824],\n",
       " ['classic international movies', 7.375],\n",
       " ['classic films', 7.3652],\n",
       " ['military documentaries', 7.35],\n",
       " ['canadian tv programmes', 7.3333],\n",
       " ['nature  ecology documentaries', 7.3333]]"
      ]
     },
     "execution_count": 21,
     "metadata": {},
     "output_type": "execute_result"
    }
   ],
   "source": [
    "newList3 = sorted(newlist1, key=lambda x: x[1], reverse=True)\n",
    "newList3[1:25]"
   ]
  },
  {
   "cell_type": "markdown",
   "id": "ee717304",
   "metadata": {},
   "source": [
    "While the section above was quite general, this data point is interesting because there are very specific tags here. The top five are Silent Films, Theater Arts, TV Variety Talk Shows, Shoujo Anime, and Oscar Winning Films. This data point provides a more specific datapoint that could be used to promoted high rated shows in these genres over others, because shows of these tags are more likely to be higher rated."
   ]
  },
  {
   "cell_type": "markdown",
   "id": "1cb542f7",
   "metadata": {},
   "source": [
    "One last analysis, this time on the actors in the movie/series"
   ]
  },
  {
   "cell_type": "code",
   "execution_count": 22,
   "id": "ecb72315",
   "metadata": {},
   "outputs": [],
   "source": [
    "X = df[\"Actors\"]\n",
    "list1 = [[\"z\", '1', '1']]"
   ]
  },
  {
   "cell_type": "code",
   "execution_count": 23,
   "id": "bc69ae53",
   "metadata": {},
   "outputs": [],
   "source": [
    "import string\n",
    "import math\n",
    "\n",
    "for x in range(X.size):\n",
    "    txt = str(X[x])\n",
    "    new_words = txt.split(\", \")\n",
    "    for y in new_words:\n",
    "        new_string = y.translate(str.maketrans('', '', string.punctuation)).lower()\n",
    "        \n",
    "        check1 = False\n",
    "        for z in range(len(list1)):\n",
    "            if list1[z][0] == new_string:\n",
    "                if not math.isnan(Y[x]):\n",
    "                    list1[z][1] = str(int(list1[z][1]) + int(Y[x]))\n",
    "                    list1[z][2] = str(int(list1[z][2]) + 1)\n",
    "                check1 = True\n",
    "            \n",
    "        if not check1:\n",
    "            if not math.isnan(Y[x]):\n",
    "                list1.append([new_string, str(int(Y[x])), str(1)])"
   ]
  },
  {
   "cell_type": "code",
   "execution_count": 24,
   "id": "1eeb839e",
   "metadata": {},
   "outputs": [],
   "source": [
    "newlist1 = [[\"z\", 1]]\n",
    "\n",
    "for x in range(len(list1)):\n",
    "    if (int(list1[x][2]) > 5):\n",
    "        temp1 = float((int(list1[x][1]))/(int(list1[x][2])))\n",
    "        res = \"{:.4f}\".format(temp1)\n",
    "        newlist1.append([list1[x][0], float(res)])"
   ]
  },
  {
   "cell_type": "code",
   "execution_count": 25,
   "id": "af2f7f36",
   "metadata": {},
   "outputs": [
    {
     "data": {
      "text/plain": [
       "[['sathyaraj', 7.75],\n",
       " ['graham chapman', 7.7143],\n",
       " ['prabhas', 7.625],\n",
       " ['miyu irino', 7.6154],\n",
       " ['kwangsoo lee', 7.5714],\n",
       " ['charles chaplin', 7.5556],\n",
       " ['mamoru miyano', 7.5385],\n",
       " ['asami seto', 7.5],\n",
       " ['sue perkins', 7.5],\n",
       " ['aamir khan', 7.5],\n",
       " ['terry gilliam', 7.5],\n",
       " ['michelle ruff', 7.5],\n",
       " ['park seojoon', 7.4444],\n",
       " ['luci christian', 7.4444],\n",
       " ['tom kenny', 7.4286],\n",
       " ['atsumi tanezaki', 7.4286],\n",
       " ['takahiro sakurai', 7.4286],\n",
       " ['yui ishikawa', 7.4286],\n",
       " ['lee jieun', 7.4286],\n",
       " ['lee jongsuk', 7.4286],\n",
       " ['john cleese', 7.4],\n",
       " ['eric idle', 7.3846],\n",
       " ['koki uchiyama', 7.3333],\n",
       " ['ara go', 7.3333]]"
      ]
     },
     "execution_count": 25,
     "metadata": {},
     "output_type": "execute_result"
    }
   ],
   "source": [
    "newList3 = sorted(newlist1, key=lambda x: x[1], reverse=True)\n",
    "newList3[1:25]"
   ]
  },
  {
   "cell_type": "markdown",
   "id": "3973f92b",
   "metadata": {},
   "source": [
    "Looking at this analysis, we can see that the top 5 highest rated IMDb actors are sathyaraj, graham chapman, prabhas, miyu irino, kwangsoo lee. This is interesting because the highest rated actors/actresses are foreign ones."
   ]
  },
  {
   "cell_type": "markdown",
   "id": "8b087703",
   "metadata": {},
   "source": [
    "Now we're gonna perform the same analysis, but instead check it with the price of netflix stock at the time the movies drop rather than the IMDb rating of the movie"
   ]
  },
  {
   "cell_type": "code",
   "execution_count": 26,
   "id": "9bf164a2",
   "metadata": {},
   "outputs": [],
   "source": [
    "df1 = pd.read_csv('HistoricalPrices.csv')"
   ]
  },
  {
   "cell_type": "code",
   "execution_count": 27,
   "id": "82f47239",
   "metadata": {},
   "outputs": [],
   "source": [
    "dates = df1.iloc[:, 0]\n",
    "prices = df1.iloc[:, 2]"
   ]
  },
  {
   "cell_type": "code",
   "execution_count": 107,
   "id": "dde7e054",
   "metadata": {},
   "outputs": [
    {
     "data": {
      "text/plain": [
       "1    09/13/22\n",
       "2    09/12/22\n",
       "3    09/09/22\n",
       "4    09/08/22\n",
       "5    09/07/22\n",
       "6    09/06/22\n",
       "7    09/02/22\n",
       "8    09/01/22\n",
       "9    08/31/22\n",
       "Name: Date, dtype: object"
      ]
     },
     "execution_count": 107,
     "metadata": {},
     "output_type": "execute_result"
    }
   ],
   "source": [
    "dates[1:10]"
   ]
  },
  {
   "cell_type": "code",
   "execution_count": 28,
   "id": "c711ee7c",
   "metadata": {},
   "outputs": [
    {
     "data": {
      "text/plain": [
       "1   2021-03-04\n",
       "2   2021-03-03\n",
       "3   2021-03-03\n",
       "4   2021-03-03\n",
       "5   2021-03-03\n",
       "6   2021-03-03\n",
       "7   2021-03-03\n",
       "8   2021-03-03\n",
       "9   2021-03-03\n",
       "Name: Netflix Release Date, dtype: datetime64[ns]"
      ]
     },
     "execution_count": 28,
     "metadata": {},
     "output_type": "execute_result"
    }
   ],
   "source": [
    "show_dates = df['Netflix Release Date']\n",
    "show_dates[1:10]"
   ]
  },
  {
   "cell_type": "markdown",
   "id": "78fde6fa",
   "metadata": {},
   "source": [
    "Looking at the difference in how the data is presented between the netflix stock dataset and the netflix movie dataset, we need to do some preprocessing to convert the data to similar formats"
   ]
  },
  {
   "cell_type": "code",
   "execution_count": 29,
   "id": "e7e4c149",
   "metadata": {},
   "outputs": [],
   "source": [
    "new_list = []\n",
    "\n",
    "for x in range(len(show_dates)):\n",
    "    temp = str(show_dates[x])\n",
    "    split_words = temp.split(\"-\")\n",
    "    new_date = split_words[1] + \"/\" + split_words[2][:2] + \"/\" + split_words[0][2:4]\n",
    "    new_list.append(str(new_date))"
   ]
  },
  {
   "cell_type": "code",
   "execution_count": 87,
   "id": "9621e659",
   "metadata": {},
   "outputs": [],
   "source": [
    "actor_price_list = [[\"z\", 1.0, 1]]"
   ]
  },
  {
   "cell_type": "code",
   "execution_count": 108,
   "id": "b9201af5",
   "metadata": {},
   "outputs": [],
   "source": [
    "def find_five(date):\n",
    "    for x in range(len(dates)):\n",
    "        if dates[x] == date and x > 5:\n",
    "            val = 0.0\n",
    "            for y in range(5):\n",
    "                val += float(prices[x - y])\n",
    "            return val/5\n",
    "        \n",
    "def find_ten(date):\n",
    "    for x in range(len(dates)):\n",
    "        if dates[x] == date and x > 5:\n",
    "            val = 0.0\n",
    "            for y in range(10):\n",
    "                val += float(prices[x - y + 5])\n",
    "            return val/10"
   ]
  },
  {
   "cell_type": "markdown",
   "id": "0094f23a",
   "metadata": {},
   "source": [
    "The functions above:\n",
    "\n",
    "find_five(date):\n",
    "This method takes in a date, and returns the five day rolling average of netflix after this date\n",
    "\n",
    "find_ten(date):\n",
    "this method takes in a date, and returns the 10 day rolling average of netflix surrounding this date, meaning it checks 5 days afterwards and 4 days before as well."
   ]
  },
  {
   "cell_type": "code",
   "execution_count": 109,
   "id": "e469d54b",
   "metadata": {},
   "outputs": [],
   "source": [
    "def stock_five(date):\n",
    "    for x in range(len(dates)):\n",
    "        if dates[x] == date and x > 5:\n",
    "            return prices[x - 4]\n",
    "\n",
    "def stock_now(date):\n",
    "    for x in range(len(dates)):\n",
    "        if dates[x] == date and x > 5:\n",
    "            return prices[x]"
   ]
  },
  {
   "cell_type": "markdown",
   "id": "06bb1e11",
   "metadata": {},
   "source": [
    "The functions above:\n",
    "\n",
    "stock_five(date):\n",
    "returns the price of the stock 5 days after the given date\n",
    "\n",
    "stock_now(date):\n",
    "returns the current price of the netflix stock"
   ]
  },
  {
   "cell_type": "code",
   "execution_count": 110,
   "id": "de5c48a3",
   "metadata": {},
   "outputs": [
    {
     "name": "stdout",
     "output_type": "stream",
     "text": [
      "248.28188\n",
      "244.03492000000006\n",
      "246.4794\n",
      "249.41\n"
     ]
    }
   ],
   "source": [
    "print(find_five(\"08/12/22\"))\n",
    "print(find_ten(\"08/12/22\"))\n",
    "print(stock_five(\"08/12/22\"))\n",
    "print(stock_now(\"08/12/22\"))"
   ]
  },
  {
   "cell_type": "markdown",
   "id": "bf3f8e66",
   "metadata": {},
   "source": [
    "Now we're doing the stock price analysis with the genre of the stock"
   ]
  },
  {
   "cell_type": "code",
   "execution_count": 111,
   "id": "9afc41e6",
   "metadata": {},
   "outputs": [],
   "source": [
    "X = df[\"Genre\"]"
   ]
  },
  {
   "cell_type": "code",
   "execution_count": 112,
   "id": "bd869155",
   "metadata": {},
   "outputs": [
    {
     "name": "stdout",
     "output_type": "stream",
     "text": [
      "0\n",
      "500\n",
      "1000\n",
      "1500\n",
      "2000\n",
      "2500\n",
      "3000\n",
      "3500\n",
      "4000\n",
      "4500\n",
      "5000\n",
      "5500\n",
      "6000\n",
      "6500\n",
      "7000\n",
      "7500\n",
      "8000\n",
      "8500\n",
      "9000\n"
     ]
    }
   ],
   "source": [
    "import string\n",
    "import math\n",
    "\n",
    "for x in range(X.size):\n",
    "    txt = str(X[x])\n",
    "    new_words = txt.split(\", \")\n",
    "    if x % 500 == 0:\n",
    "        print(x)\n",
    "    for y in new_words:\n",
    "        new_string = y.translate(str.maketrans('', '', string.punctuation)).lower()\n",
    "        \n",
    "        check1 = False\n",
    "        for z in range(len(actor_price_list)):\n",
    "            if actor_price_list[z][0] == new_string:\n",
    "                date = new_list[x]\n",
    "                five = stock_five(date)\n",
    "                ten = stock_now(date)\n",
    "                if five is not None and ten is not None:\n",
    "                    actor_price_list[z][1] += five/ten\n",
    "                    actor_price_list[z][2] += 1\n",
    "                check1 = True\n",
    "            \n",
    "        if not check1:\n",
    "            date = new_list[x]\n",
    "            five = stock_five(date)\n",
    "            ten = stock_now(date)\n",
    "            if five is not None and ten is not None:\n",
    "                actor_price_list.append([new_string, five/ten, 1])"
   ]
  },
  {
   "cell_type": "code",
   "execution_count": 113,
   "id": "647df1a6",
   "metadata": {},
   "outputs": [
    {
     "data": {
      "text/plain": [
       "[['crime', 3816.4523715012992, 3814],\n",
       " ['drama', 11921.459266066313, 11916],\n",
       " ['fantasy', 3128.9075221013736, 3125],\n",
       " ['horror', 1848.7416485502847, 1846],\n",
       " ['romance', 4497.565778911585, 4492],\n",
       " ['comedy', 8365.649542273219, 8357],\n",
       " ['mystery', 2381.7563756239515, 2378],\n",
       " ['thriller', 5220.90925943258, 5216],\n",
       " ['short', 391.75372146122646, 393]]"
      ]
     },
     "execution_count": 113,
     "metadata": {},
     "output_type": "execute_result"
    }
   ],
   "source": [
    "actor_price_list[1:10]"
   ]
  },
  {
   "cell_type": "code",
   "execution_count": 114,
   "id": "cb1536c8",
   "metadata": {},
   "outputs": [],
   "source": [
    "newlist1 = [[\"z\", 1]]\n",
    "\n",
    "for x in range(len(actor_price_list)):\n",
    "    if (int(actor_price_list[x][2]) > 5):\n",
    "        temp1 = float(actor_price_list[x][1])/(actor_price_list[x][2])\n",
    "        res = \"{:.4f}\".format(temp1)\n",
    "        newlist1.append([actor_price_list[x][0], float(res)])"
   ]
  },
  {
   "cell_type": "code",
   "execution_count": 115,
   "id": "e39b1572",
   "metadata": {},
   "outputs": [
    {
     "data": {
      "text/plain": [
       "[['news', 1.0021],\n",
       " ['sport', 1.0018],\n",
       " ['mystery', 1.0016],\n",
       " ['western', 1.0016],\n",
       " ['horror', 1.0015],\n",
       " ['war', 1.0015],\n",
       " ['documentary', 1.0015],\n",
       " ['fantasy', 1.0013],\n",
       " ['romance', 1.0012],\n",
       " ['action', 1.0012],\n",
       " ['adventure', 1.0012],\n",
       " ['animation', 1.0011],\n",
       " ['comedy', 1.001],\n",
       " ['musical', 1.001],\n",
       " ['thriller', 1.0009],\n",
       " ['scifi', 1.0008],\n",
       " ['biography', 1.0007],\n",
       " ['history', 1.0007],\n",
       " ['crime', 1.0006],\n",
       " ['drama', 1.0005],\n",
       " ['family', 1.0005],\n",
       " ['nan', 1.0004],\n",
       " ['adult', 1.0003],\n",
       " ['z', 1]]"
      ]
     },
     "execution_count": 115,
     "metadata": {},
     "output_type": "execute_result"
    }
   ],
   "source": [
    "newList3 = sorted(newlist1, key=lambda x: x[1], reverse=True)\n",
    "newList3[1:25]"
   ]
  },
  {
   "cell_type": "markdown",
   "id": "1320d1cb",
   "metadata": {},
   "source": [
    "This shows that for the top 5 genres (news, sport, mystery, western, horror), the stock price of netflix rose on average 1.0021, 1.0018, 1.0016, 1.0016, and 1.0015 times respectively in one week whenever a movie of that genre was released\n",
    "\n",
    "Since we know that there are downturns in the stock market and that shouldn't negatively impact a genre's performance, we're going to run this test again but check the 5 day rolling average compared to the 10 day rolling average, and see if there was an uptick in the stock after the movie genre was released."
   ]
  },
  {
   "cell_type": "code",
   "execution_count": 129,
   "id": "994d043c",
   "metadata": {},
   "outputs": [],
   "source": [
    "actor_price_list = [[\"z\", 1.0, 1]]\n",
    "X = df[\"Genre\"]"
   ]
  },
  {
   "cell_type": "code",
   "execution_count": 130,
   "id": "92e37b7d",
   "metadata": {},
   "outputs": [
    {
     "name": "stdout",
     "output_type": "stream",
     "text": [
      "0\n",
      "500\n",
      "1000\n",
      "1500\n",
      "2000\n",
      "2500\n",
      "3000\n",
      "3500\n",
      "4000\n",
      "4500\n",
      "5000\n",
      "5500\n",
      "6000\n",
      "6500\n",
      "7000\n",
      "7500\n",
      "8000\n",
      "8500\n",
      "9000\n"
     ]
    }
   ],
   "source": [
    "import string\n",
    "import math\n",
    "\n",
    "for x in range(X.size):\n",
    "    txt = str(X[x])\n",
    "    new_words = txt.split(\", \")\n",
    "    if x % 500 == 0:\n",
    "        print(x)\n",
    "    for y in new_words:\n",
    "        new_string = y.translate(str.maketrans('', '', string.punctuation)).lower()\n",
    "        \n",
    "        check1 = False\n",
    "        for z in range(len(actor_price_list)):\n",
    "            if actor_price_list[z][0] == new_string:\n",
    "                date = new_list[x]\n",
    "                five = find_five(date)\n",
    "                ten = find_ten(date)\n",
    "                if five is not None and ten is not None:\n",
    "                    actor_price_list[z][1] += five/ten\n",
    "                    actor_price_list[z][2] += 1\n",
    "                check1 = True\n",
    "            \n",
    "        if not check1:\n",
    "            date = new_list[x]\n",
    "            five = find_five(date)\n",
    "            ten = find_ten(date)\n",
    "            if five is not None and ten is not None:\n",
    "                actor_price_list.append([new_string, five/ten, 1])"
   ]
  },
  {
   "cell_type": "code",
   "execution_count": 131,
   "id": "86fe382d",
   "metadata": {},
   "outputs": [],
   "source": [
    "newlist1 = [[\"z\", 1]]\n",
    "\n",
    "for x in range(len(actor_price_list)):\n",
    "    if (int(actor_price_list[x][2]) > 5):\n",
    "        temp1 = float(actor_price_list[x][1])/(actor_price_list[x][2])\n",
    "        res = \"{:.4f}\".format(temp1)\n",
    "        newlist1.append([actor_price_list[x][0], float(res)])"
   ]
  },
  {
   "cell_type": "code",
   "execution_count": 132,
   "id": "c15304af",
   "metadata": {},
   "outputs": [
    {
     "data": {
      "text/plain": [
       "[['family', 1.0361],\n",
       " ['action', 1.0337],\n",
       " ['adventure', 1.0333],\n",
       " ['thriller', 1.0325],\n",
       " ['war', 1.0317],\n",
       " ['horror', 1.0313],\n",
       " ['western', 1.0308],\n",
       " ['crime', 1.0306],\n",
       " ['musical', 1.0305],\n",
       " ['fantasy', 1.0304],\n",
       " ['sport', 1.0297],\n",
       " ['comedy', 1.0295],\n",
       " ['scifi', 1.0293],\n",
       " ['mystery', 1.0279],\n",
       " ['biography', 1.0272],\n",
       " ['romance', 1.027],\n",
       " ['talkshow', 1.0264],\n",
       " ['music', 1.0259],\n",
       " ['drama', 1.025],\n",
       " ['animation', 1.025],\n",
       " ['history', 1.024],\n",
       " ['gameshow', 1.0212],\n",
       " ['short', 1.0156],\n",
       " ['documentary', 1.0147]]"
      ]
     },
     "execution_count": 132,
     "metadata": {},
     "output_type": "execute_result"
    }
   ],
   "source": [
    "newList3 = sorted(newlist1, key=lambda x: x[1], reverse=True)\n",
    "newList3[1:25]"
   ]
  },
  {
   "cell_type": "markdown",
   "id": "f1141a3f",
   "metadata": {},
   "source": [
    "This is a better datapoint, because it shows that even at times when there is a downturn in netflix stops, when movies of genres family, action, adventure, thriller, and war are released, there is on average a 3.61%, 3.37%, 3.33%, 3.25%, and 3.17% increase in the 5 day rolling average compared to the 10 day rolling average"
   ]
  },
  {
   "cell_type": "markdown",
   "id": "38046dce",
   "metadata": {},
   "source": [
    "Now it's time to do the same but for actors"
   ]
  },
  {
   "cell_type": "code",
   "execution_count": 116,
   "id": "dbfe4c6e",
   "metadata": {},
   "outputs": [],
   "source": [
    "X = df[\"Actors\"]\n",
    "actor_price_list = [[\"z\", 1.0, 1]]"
   ]
  },
  {
   "cell_type": "code",
   "execution_count": 117,
   "id": "cb750c4d",
   "metadata": {},
   "outputs": [
    {
     "name": "stdout",
     "output_type": "stream",
     "text": [
      "0\n",
      "250\n",
      "500\n",
      "750\n",
      "1000\n",
      "1250\n",
      "1500\n",
      "1750\n",
      "2000\n",
      "2250\n",
      "2500\n",
      "2750\n",
      "3000\n",
      "3250\n",
      "3500\n",
      "3750\n",
      "4000\n",
      "4250\n",
      "4500\n",
      "4750\n",
      "5000\n",
      "5250\n",
      "5500\n",
      "5750\n",
      "6000\n",
      "6250\n",
      "6500\n",
      "6750\n",
      "7000\n",
      "7250\n",
      "7500\n",
      "7750\n",
      "8000\n",
      "8250\n",
      "8500\n",
      "8750\n",
      "9000\n",
      "9250\n"
     ]
    }
   ],
   "source": [
    "import string\n",
    "import math\n",
    "\n",
    "for x in range(X.size):\n",
    "    txt = str(X[x])\n",
    "    new_words = txt.split(\", \")\n",
    "    if x % 250 == 0:\n",
    "        print(x)\n",
    "    for y in new_words:\n",
    "        new_string = y.translate(str.maketrans('', '', string.punctuation)).lower()\n",
    "        \n",
    "        check1 = False\n",
    "        for z in range(len(actor_price_list)):\n",
    "            if actor_price_list[z][0] == new_string:\n",
    "                date = new_list[x]\n",
    "                five = stock_five(date)\n",
    "                ten = stock_now(date)\n",
    "                if five is not None and ten is not None:\n",
    "                    actor_price_list[z][1] += five/ten\n",
    "                    actor_price_list[z][2] += 1\n",
    "                check1 = True\n",
    "            \n",
    "        if not check1:\n",
    "            date = new_list[x]\n",
    "            five = stock_five(date)\n",
    "            ten = stock_now(date)\n",
    "            if five is not None and ten is not None:\n",
    "                actor_price_list.append([new_string, five/ten, 1])"
   ]
  },
  {
   "cell_type": "code",
   "execution_count": 123,
   "id": "8d116ecf",
   "metadata": {},
   "outputs": [
    {
     "data": {
      "text/plain": [
       "[['lina leandersson', 1.9669518113549378, 2],\n",
       " ['kåre hedebrant', 1.9669518113549378, 2],\n",
       " ['per ragnar', 1.9669518113549378, 2],\n",
       " ['henrik dahl', 1.9669518113549378, 2],\n",
       " ['cleo', 1.9567471955438813, 2],\n",
       " ['paddy considine', 6.455069005273012, 6],\n",
       " ['beanie feldstein', 1.9483259461409501, 2],\n",
       " ['dónal finn', 0.9764252116650989, 1],\n",
       " ['kathaleeya mcintosh', 0.9363235736900211, 1]]"
      ]
     },
     "execution_count": 123,
     "metadata": {},
     "output_type": "execute_result"
    }
   ],
   "source": [
    "actor_price_list[1:10]"
   ]
  },
  {
   "cell_type": "code",
   "execution_count": 126,
   "id": "c57fac68",
   "metadata": {},
   "outputs": [],
   "source": [
    "newlist1 = [[\"z\", 1]]\n",
    "\n",
    "for x in range(len(actor_price_list)):\n",
    "    if (int(actor_price_list[x][2]) > 10):\n",
    "        temp1 = float(actor_price_list[x][1])/(actor_price_list[x][2])\n",
    "        res = \"{:.4f}\".format(temp1)\n",
    "        newlist1.append([actor_price_list[x][0], float(res)])"
   ]
  },
  {
   "cell_type": "code",
   "execution_count": 127,
   "id": "874974fb",
   "metadata": {},
   "outputs": [
    {
     "data": {
      "text/plain": [
       "[['jim carrey', 1.1571],\n",
       " ['cameron diaz', 1.1565],\n",
       " ['colin firth', 1.1532],\n",
       " ['paul rudd', 1.1492],\n",
       " ['stanley tucci', 1.1477],\n",
       " ['eddie murphy', 1.1453],\n",
       " ['tom wilkinson', 1.1443],\n",
       " ['kirsten dunst', 1.1428],\n",
       " ['matt damon', 1.1411],\n",
       " ['jack black', 1.1405],\n",
       " ['christopher walken', 1.1404],\n",
       " ['angelina jolie', 1.1403],\n",
       " ['jessica biel', 1.1395],\n",
       " ['johnny depp', 1.1391],\n",
       " ['ben stiller', 1.1388],\n",
       " ['tom cruise', 1.1382],\n",
       " ['josh brolin', 1.137],\n",
       " ['richard gere', 1.1363],\n",
       " ['gerard butler', 1.1341],\n",
       " ['will ferrell', 1.1326],\n",
       " ['vin diesel', 1.1317],\n",
       " ['owen wilson', 1.1314],\n",
       " ['leonardo dicaprio', 1.1306],\n",
       " ['morgan freeman', 1.1297]]"
      ]
     },
     "execution_count": 127,
     "metadata": {},
     "output_type": "execute_result"
    }
   ],
   "source": [
    "newList3 = sorted(newlist1, key=lambda x: x[1], reverse=True)\n",
    "newList3[1:25]"
   ]
  },
  {
   "cell_type": "markdown",
   "id": "ce998c74",
   "metadata": {},
   "source": [
    "Now do the same with the rolling averages"
   ]
  },
  {
   "cell_type": "code",
   "execution_count": 133,
   "id": "3d101e6e",
   "metadata": {},
   "outputs": [],
   "source": [
    "X = df[\"Actors\"]\n",
    "actor_price_list = [[\"z\", 1.0, 1]]"
   ]
  },
  {
   "cell_type": "code",
   "execution_count": 134,
   "id": "94d448b5",
   "metadata": {},
   "outputs": [
    {
     "name": "stdout",
     "output_type": "stream",
     "text": [
      "0\n",
      "250\n",
      "500\n",
      "750\n",
      "1000\n",
      "1250\n",
      "1500\n",
      "1750\n",
      "2000\n",
      "2250\n",
      "2500\n",
      "2750\n",
      "3000\n",
      "3250\n",
      "3500\n",
      "3750\n",
      "4000\n",
      "4250\n",
      "4500\n",
      "4750\n",
      "5000\n",
      "5250\n",
      "5500\n",
      "5750\n",
      "6000\n",
      "6250\n",
      "6500\n",
      "6750\n",
      "7000\n",
      "7250\n",
      "7500\n",
      "7750\n",
      "8000\n",
      "8250\n",
      "8500\n",
      "8750\n",
      "9000\n",
      "9250\n"
     ]
    }
   ],
   "source": [
    "import string\n",
    "import math\n",
    "\n",
    "for x in range(X.size):\n",
    "    txt = str(X[x])\n",
    "    new_words = txt.split(\", \")\n",
    "    if x % 250 == 0:\n",
    "        print(x)\n",
    "    for y in new_words:\n",
    "        new_string = y.translate(str.maketrans('', '', string.punctuation)).lower()\n",
    "        \n",
    "        check1 = False\n",
    "        for z in range(len(actor_price_list)):\n",
    "            if actor_price_list[z][0] == new_string:\n",
    "                date = new_list[x]\n",
    "                five = find_five(date)\n",
    "                ten = find_ten(date)\n",
    "                if five is not None and ten is not None:\n",
    "                    actor_price_list[z][1] += five/ten\n",
    "                    actor_price_list[z][2] += 1\n",
    "                check1 = True\n",
    "            \n",
    "        if not check1:\n",
    "            date = new_list[x]\n",
    "            five = find_five(date)\n",
    "            ten = find_ten(date)\n",
    "            if five is not None and ten is not None:\n",
    "                actor_price_list.append([new_string, five/ten, 1])"
   ]
  },
  {
   "cell_type": "code",
   "execution_count": 135,
   "id": "43e247ea",
   "metadata": {},
   "outputs": [],
   "source": [
    "newlist1 = [[\"z\", 1]]\n",
    "\n",
    "for x in range(len(actor_price_list)):\n",
    "    if (int(actor_price_list[x][2]) > 10):\n",
    "        temp1 = float(actor_price_list[x][1])/(actor_price_list[x][2])\n",
    "        res = \"{:.4f}\".format(temp1)\n",
    "        newlist1.append([actor_price_list[x][0], float(res)])"
   ]
  },
  {
   "cell_type": "code",
   "execution_count": 136,
   "id": "57a8b214",
   "metadata": {},
   "outputs": [
    {
     "data": {
      "text/plain": [
       "[['jessica biel', 1.0709],\n",
       " ['jim carrey', 1.0707],\n",
       " ['jason statham', 1.0701],\n",
       " ['gerard butler', 1.0698],\n",
       " ['colin firth', 1.0692],\n",
       " ['paul rudd', 1.0686],\n",
       " ['jack black', 1.0685],\n",
       " ['tom wilkinson', 1.0668],\n",
       " ['kirsten dunst', 1.0666]]"
      ]
     },
     "execution_count": 136,
     "metadata": {},
     "output_type": "execute_result"
    }
   ],
   "source": [
    "newList3 = sorted(newlist1, key=lambda x: x[1], reverse=True)\n",
    "newList3[1:10]"
   ]
  },
  {
   "cell_type": "markdown",
   "id": "69c43f1a",
   "metadata": {},
   "source": [
    "We can see that the actors with the highest change in rolling averages was jessica biel, jim carrey, jason statham, garard butler, and colin firth. "
   ]
  },
  {
   "cell_type": "markdown",
   "id": "c6da5849",
   "metadata": {},
   "source": [
    "During this analysis, I split it into two goals. The first was to see if there were specific features of the movies that led to higher IMDb ratings. The second part was to see if there were any features of movies that hed to a positive gain in stock price."
   ]
  },
  {
   "cell_type": "markdown",
   "id": "4b451bd1",
   "metadata": {},
   "source": [
    "In the first section of the analysis, like stated above, the goal was to find the any specific feature that correlated with higher IMDb ratings. We started off by analyzing the titles of movies. By splitting the words in the titles, converting them to lowercase, and ignoring words like \"the\", \"and\", \"by\", etc. that provide no additional meaning, we were able to calculate a list of words that appeared in titles with their average IMDb score. One that the had to be adjusted was that we only displayed words that appeared more than 5 times, to avoid words that only appeared in 1 movie title that had an insanely high IMDb score and skewed the results.\n",
    "\n",
    "However, this analysis doesn't really help any data scientists, because there aren't many conclusions you can draw with random words in titles vs IMDb scores. Thus, we proceeded to analyze the different genres. Since each movie/series had 1 or more genres, we were able to find the average IMDb scores of each genre. This provided interesting information that could be useful in analysis.\n",
    "\n",
    "But we can do better. The data column of \"tags\" provided very specific information about each movie/series. Using this data point, we can find very specific information about different movies/series that correlated with higher IMDb scores. After completing this analysis, we now possess important data that can be used to see what types of shows to promote. If we know that movies of one tag in general are rated higher than movies of another tag, then it allows netflix to choose which types of movies to promote to gain better user engagement. This type of data is useful and is what data scientists seek.\n",
    "\n",
    "Another useful data point that I analyzed is the relationship between the actors in a movie with the IMDb score of the movie. This data point shows which actors had the highest overall rating for IMDb scores. This data point is also quite useful, because it tells directors of new movies what actor's are promising to add to a movie to get higher scores."
   ]
  },
  {
   "cell_type": "markdown",
   "id": "729bb46f",
   "metadata": {},
   "source": [
    "In the second section of this analysis, we try to find specific features of movies that led to the highest stock gains. Yet again, we split this section into two different parts.\n",
    "\n",
    "1. Find the features with the highest overall 5 day stock gain.\n",
    "\n",
    "This data point is useful because pure stock gain is what investment funds seek. However, it leads to issues when the stock market/netflix stock is at a down turn. In situations like this, even if a movie is great and leads to positivity of the stock, the overall condition of the market might cause the stock to still decrease over 5 days, negatively affecting the features of this stock. This is why I felt the second metric was more useful\n",
    "    \n",
    "2. Compare the 5 day rolling average with the 10 day rolling average, to see if a feature caused the 5 day average to be larger than the 10 day average meaning there was a positive uptick in the stock\n",
    "\n",
    "This data point I felt is more useful because even in downturns of the market, a less sharp decline in the stock caused by the release of a movie leads to the 5 day average being greater than the 10 day average, positively benefiting the features of that stock.\n",
    "\n",
    "I won't go into details about each of the features we tested for in this section (because they are the same as the ones in the previous section), but for each of the features tested, I went through the two different stock measurements for each. Althought I felt that the rolling average datapoint is more useful, having both that and the stock gain datapoint is useful for any future gains.\n",
    "\n",
    "One positive of the very specific features like tags and author names is that when movies with these features are released, one can be relatively confident that they can follow the data and make an accurate stock purchase.\n",
    "\n",
    "A note for this section is that these movies and series were all released during an overall bull market for netflix. It's been relatively positive gains for the most part up until November 2021. After that date, the Netflix stock has dropped drastically. This means that the analysis of the data before the major drop may not be completely useful in the future, as the change from a bull market to a bear market can mean the data behind each feature isn't accurate anymore."
   ]
  },
  {
   "cell_type": "code",
   "execution_count": null,
   "id": "4446b35a",
   "metadata": {},
   "outputs": [],
   "source": []
  }
 ],
 "metadata": {
  "kernelspec": {
   "display_name": "Python 3 (ipykernel)",
   "language": "python",
   "name": "python3"
  },
  "language_info": {
   "codemirror_mode": {
    "name": "ipython",
    "version": 3
   },
   "file_extension": ".py",
   "mimetype": "text/x-python",
   "name": "python",
   "nbconvert_exporter": "python",
   "pygments_lexer": "ipython3",
   "version": "3.9.12"
  }
 },
 "nbformat": 4,
 "nbformat_minor": 5
}
